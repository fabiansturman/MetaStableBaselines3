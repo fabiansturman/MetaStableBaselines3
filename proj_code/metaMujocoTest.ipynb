{
 "cells": [
  {
   "cell_type": "code",
   "execution_count": 21,
   "id": "93ef9ca4",
   "metadata": {},
   "outputs": [],
   "source": [
    "#Perform imports\n",
    "import random\n",
    "\n",
    "import numpy as np\n",
    "import torch\n",
    "from torch import optim\n",
    "from tqdm import tqdm\n",
    "\n",
    "import gymnasium as gym\n",
    "\n",
    "\n",
    "from stable_baselines3 import A2C\n",
    "\n",
    "from stable_baselines3.common.logger import configure\n",
    "\n",
    "\n",
    "import matplotlib.pyplot as plt\n",
    "\n",
    "\n",
    "device = 'cpu'# 'cuda' #  #doing cpu as A2C with MlpPolicy (rather than CNNpolicy) in stablebaseline is faster on CPU, and the meta gradinet beign faster on GPU (even if it is) is not *that* much faster - it is about two(ish) times slower overall based on one run each with two meta iterations, so better on cpu in this case\n",
    "torch.set_default_device(device)"
   ]
  },
  {
   "cell_type": "code",
   "execution_count": 22,
   "id": "955e3544",
   "metadata": {},
   "outputs": [],
   "source": [
    "model_save_path = \"saved_models\\\\29May_MuJoCoStandardTest_3\""
   ]
  },
  {
   "cell_type": "code",
   "execution_count": 23,
   "id": "0e893716",
   "metadata": {},
   "outputs": [
    {
     "data": {
      "text/plain": [
       "<fabian.envs.cartpole_gymn.MuJoCo_ActionOffsets at 0x2bad1fa2350>"
      ]
     },
     "execution_count": 23,
     "metadata": {},
     "output_type": "execute_result"
    }
   ],
   "source": [
    "#Make meta-environment\n",
    "from fabian.envs.cartpole_gymn import MuJoCo_ActionOffsets\n",
    "env = MuJoCo_ActionOffsets(gymnasium_env_name='InvertedPendulum-v5', \n",
    "                               offset_variance=0.1,\n",
    "                               )\n",
    "env.normalise_actions()\n",
    "env.add_recorder(model_save_path, \"trainig_\")"
   ]
  },
  {
   "cell_type": "code",
   "execution_count": 24,
   "id": "860f23c8",
   "metadata": {},
   "outputs": [],
   "source": [
    "##Set up for meta learning\n",
    "\n",
    "#Hyperparameters\n",
    "adapt_lr =  7e-4\n",
    "meta_lr = 0.0005 \n",
    "meta_iterations = 500#1250\n",
    "adapt_timesteps = 32*4 #for this enviornment, each episode is exactly 32 timesteps, so multiple of 32 means full number of eps experienced for each task\n",
    "tasks_per_loop = 40#60\n",
    "adapt_visualisations = 15\n",
    "\n",
    "vis_timesteps = meta_iterations//adapt_visualisations #denominator is number of visualisations we want\n",
    "if vis_timesteps == 0:\n",
    "    vis_timesteps = 1 \n",
    "\n",
    "\n",
    "\n",
    "#Make meta-policy and meta-optimiser\n",
    "meta_agent = A2C(\"MlpPolicy\", env, verbose=0, learning_rate=adapt_lr, device=device,\n",
    "                    )\n",
    "                 #meta_learning=True, \n",
    "                # M=1,adapt_timesteps=4*32, eval_timesteps=100) #we train the meta_agent to do well at adapting to new envs (i.e. meta learning) in our env distribution\n",
    "#meta_opt = optim.Adam(meta_agent.policy.parameters(), lr=meta_lr)\n",
    "\n",
    "#Logging variables\n",
    "meta_losses = []\n",
    "meta_rets = []\n",
    "best_meta_ret = None\n",
    "best_meta_ret_it = -1"
   ]
  },
  {
   "cell_type": "code",
   "execution_count": 25,
   "id": "0bbdb862",
   "metadata": {},
   "outputs": [
    {
     "data": {
      "text/plain": [
       "0.13111005537008683"
      ]
     },
     "execution_count": 25,
     "metadata": {},
     "output_type": "execute_result"
    }
   ],
   "source": [
    "env.task "
   ]
  },
  {
   "cell_type": "code",
   "execution_count": 26,
   "id": "e82f78f1",
   "metadata": {},
   "outputs": [
    {
     "data": {
      "application/vnd.jupyter.widget-view+json": {
       "model_id": "3935179567a44d21893981ebf4a014df",
       "version_major": 2,
       "version_minor": 0
      },
      "text/plain": [
       "Output()"
      ]
     },
     "metadata": {},
     "output_type": "display_data"
    },
    {
     "data": {
      "text/html": [
       "<pre style=\"white-space:pre;overflow-x:auto;line-height:normal;font-family:Menlo,'DejaVu Sans Mono',consolas,'Courier New',monospace\"></pre>\n"
      ],
      "text/plain": []
     },
     "metadata": {},
     "output_type": "display_data"
    },
    {
     "data": {
      "text/plain": [
       "<stable_baselines3.a2c.a2c.A2C at 0x2bad1fa3390>"
      ]
     },
     "execution_count": 26,
     "metadata": {},
     "output_type": "execute_result"
    }
   ],
   "source": [
    "meta_agent.learn(total_timesteps=1_000_000, progress_bar=True)"
   ]
  },
  {
   "cell_type": "code",
   "execution_count": 27,
   "id": "e2c464e7",
   "metadata": {},
   "outputs": [
    {
     "data": {
      "text/plain": [
       "0.13111005537008683"
      ]
     },
     "execution_count": 27,
     "metadata": {},
     "output_type": "execute_result"
    }
   ],
   "source": [
    "env.task "
   ]
  },
  {
   "cell_type": "code",
   "execution_count": 28,
   "id": "777612c8",
   "metadata": {},
   "outputs": [
    {
     "data": {
      "text/plain": [
       "(tensor(-1.0723e-07, grad_fn=<DivBackward0>), tensor(100.0000))"
      ]
     },
     "execution_count": 28,
     "metadata": {},
     "output_type": "execute_result"
    }
   ],
   "source": [
    "env.set_recording(True)\n",
    "meta_agent.evaluate_policy(total_timesteps=2000, progress_bar=True, policy=meta_agent.policy)"
   ]
  },
  {
   "cell_type": "code",
   "execution_count": 29,
   "id": "064bf054",
   "metadata": {},
   "outputs": [
    {
     "data": {
      "text/plain": [
       "0.13111005537008683"
      ]
     },
     "execution_count": 29,
     "metadata": {},
     "output_type": "execute_result"
    }
   ],
   "source": [
    "env.task "
   ]
  },
  {
   "cell_type": "code",
   "execution_count": 10,
   "id": "a5abea53",
   "metadata": {},
   "outputs": [],
   "source": [
    "env.close()"
   ]
  }
 ],
 "metadata": {
  "kernelspec": {
   "display_name": "projdist",
   "language": "python",
   "name": "python3"
  },
  "language_info": {
   "codemirror_mode": {
    "name": "ipython",
    "version": 3
   },
   "file_extension": ".py",
   "mimetype": "text/x-python",
   "name": "python",
   "nbconvert_exporter": "python",
   "pygments_lexer": "ipython3",
   "version": "3.13.3"
  }
 },
 "nbformat": 4,
 "nbformat_minor": 5
}
