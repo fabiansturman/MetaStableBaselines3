{
 "cells": [
  {
   "cell_type": "markdown",
   "id": "203c4ac2",
   "metadata": {},
   "source": [
    "Imports"
   ]
  },
  {
   "cell_type": "code",
   "execution_count": 1,
   "id": "e6209f59",
   "metadata": {},
   "outputs": [],
   "source": [
    "import random\n",
    "\n",
    "import numpy as np\n",
    "import torch\n",
    "from torch import optim\n",
    "from tqdm import tqdm\n",
    "\n",
    "import gymnasium as gym\n",
    "\n",
    "from stable_baselines3 import A2C,PPO\n",
    "\n",
    "\n",
    "from stable_baselines3.common.logger import configure\n",
    "\n",
    "\n",
    "import fabian.envs.khazad_dum_gymn \n",
    "\n",
    "import matplotlib.pyplot as plt\n",
    "\n",
    "import pickle"
   ]
  },
  {
   "cell_type": "markdown",
   "id": "846bd1dc",
   "metadata": {},
   "source": [
    "## Working with 26May_TestingPseudoRoML_A2C_3a_MAML"
   ]
  },
  {
   "cell_type": "markdown",
   "id": "ff88c01c",
   "metadata": {},
   "source": [
    "Load in returns generated from the final form of this model"
   ]
  },
  {
   "cell_type": "code",
   "execution_count": 2,
   "id": "703c79bd",
   "metadata": {},
   "outputs": [],
   "source": [
    "model_save_path = \"C:\\\\Users\\\\fabia\\\\Documents\\\\GitHub\\\\MetaStableBaselines3\\\\proj_code\\\\saved_models\\\\26May_TestingPseudoRoML_A2C_3a\"\n",
    "\n",
    "dbfile = open(f\"{model_save_path}\\\\iidReturnList.pickle\", 'rb')\n",
    "return_list = pickle.load(dbfile)\n",
    "\n",
    "dbfile = open(f\"{model_save_path}\\\\TaskwiseReturns.pickle\", 'rb')\n",
    "returns=pickle.load(dbfile) "
   ]
  },
  {
   "cell_type": "code",
   "execution_count": 3,
   "id": "ed03eea1",
   "metadata": {},
   "outputs": [
    {
     "name": "stdout",
     "output_type": "stream",
     "text": [
      "100001\n",
      "100\n"
     ]
    }
   ],
   "source": [
    "print(len(return_list))\n",
    "print(len(returns.keys()))"
   ]
  },
  {
   "cell_type": "markdown",
   "id": "4aca3f24",
   "metadata": {},
   "source": [
    "Load in the model too, to have access to the SMC functions of it"
   ]
  },
  {
   "cell_type": "code",
   "execution_count": 4,
   "id": "e0c068ff",
   "metadata": {},
   "outputs": [
    {
     "name": "stderr",
     "output_type": "stream",
     "text": [
      "c:\\Users\\fabia\\anaconda3\\envs\\projdist\\Lib\\site-packages\\gymnasium\\envs\\registration.py:487: UserWarning: \u001b[33mWARN: The environment creator metadata doesn't include `render_modes`, contains: ['render.modes']\u001b[0m\n",
      "  logger.warn(\n"
     ]
    },
    {
     "data": {
      "text/plain": [
       "<All keys matched successfully>"
      ]
     },
     "execution_count": 4,
     "metadata": {},
     "output_type": "execute_result"
    }
   ],
   "source": [
    "import fabian.envs.khazad_dum_gymn \n",
    "env = gym.make(\"KhazadDum-v1\") # can access wrapped env with \"env.unwrapped\" (e.g. to reset task)\n",
    "env.unwrapped.exp_bonus = 1; env.unwrapped.bridge_bonus_factor = 2 #this should incentivise getting to the target asap, and incentivise going onto the bridge\n",
    "\n",
    "\n",
    "meta_agent = A2C(\"MlpPolicy\", env, verbose=0, learning_rate=7e-4, device=\"cpu\",\n",
    "                 meta_learning=True, M=1, adapt_timesteps=4*32, eval_timesteps=2*32)\n",
    "meta_agent.policy.load_state_dict(torch.load(f\"{model_save_path}\\\\final\", weights_only=True))"
   ]
  },
  {
   "cell_type": "markdown",
   "id": "8e67d4a8",
   "metadata": {},
   "source": [
    "Histogram of i.i.d. returns"
   ]
  },
  {
   "cell_type": "code",
   "execution_count": 5,
   "id": "bcb06f3e",
   "metadata": {},
   "outputs": [
    {
     "data": {
      "image/png": "[encoded data removed]",
      "text/plain": [
       "<Figure size 640x480 with 1 Axes>"
      ]
     },
     "metadata": {},
     "output_type": "display_data"
    }
   ],
   "source": [
    "plt.hist([i[0] for i in return_list], bins=\"auto\")\n",
    "plt.show()"
   ]
  },
  {
   "cell_type": "markdown",
   "id": "53b1b092",
   "metadata": {},
   "source": [
    "Theorem 1"
   ]
  },
  {
   "cell_type": "code",
   "execution_count": 6,
   "id": "fafdb74b",
   "metadata": {},
   "outputs": [],
   "source": [
    "return_list_sorted = sorted(return_list)"
   ]
  },
  {
   "cell_type": "code",
   "execution_count": 7,
   "id": "0c27affa",
   "metadata": {},
   "outputs": [
    {
     "name": "stdout",
     "output_type": "stream",
     "text": [
      "(array([0.05216458]), [tensor(-0.0531)])\n"
     ]
    }
   ],
   "source": [
    "eta=0.001\n",
    "k=int(len(return_list_sorted)*0.05)\n",
    "\n",
    "epsilon, guarantee =  meta_agent.rollout_risk_SMC(eta, k, return_list_sorted)\n",
    "print((epsilon, guarantee))\n"
   ]
  },
  {
   "cell_type": "code",
   "execution_count": null,
   "id": "ab662938",
   "metadata": {},
   "outputs": [],
   "source": [
    "for k in range(0,int(np.ceil(0.02*tasks))):\n",
    "    epsilon, guarantee =  meta_agent.rollout_risk_SMC(eta, k, return_list)\n",
    "    print((epsilon, guarantee))"
   ]
  },
  {
   "cell_type": "markdown",
   "id": "870040b6",
   "metadata": {},
   "source": [
    "Theorem 2 c2"
   ]
  },
  {
   "cell_type": "code",
   "execution_count": 9,
   "id": "661f5f57",
   "metadata": {},
   "outputs": [
    {
     "name": "stdout",
     "output_type": "stream",
     "text": [
      "(a,b) = (-4, 3.15625)\n"
     ]
    }
   ],
   "source": [
    "a=-1-3*(1)\n",
    "b=5/env.unwrapped.normalize_rewards + 1 + env.unwrapped.bridge_bonus_factor*env.unwrapped.exp_bonus\n",
    "print(f\"(a,b) = {(a,b)}\")"
   ]
  },
  {
   "cell_type": "code",
   "execution_count": 12,
   "id": "905a23f4",
   "metadata": {},
   "outputs": [
    {
     "name": "stderr",
     "output_type": "stream",
     "text": [
      "  0%|          | 0/101 [00:00<?, ?it/s]"
     ]
    },
    {
     "name": "stderr",
     "output_type": "stream",
     "text": [
      "C:\\Users\\fabia\\Documents\\GitHub\\MetaStableBaselines3\\proj_code\\stable-baselines3-master\\stable-baselines3-master\\stable_baselines3\\common\\on_policy_algorithm.py:552: RuntimeWarning: The iteration is not making good progress, as measured by the \n",
      " improvement from the last ten iterations.\n",
      "  epsilon = fsolve(self._theorem2_epsiloneq, starting_point, args=(k,K,n,gamma,eta))\n",
      "100%|██████████| 101/101 [01:00<00:00,  1.66it/s]"
     ]
    },
    {
     "name": "stdout",
     "output_type": "stream",
     "text": [
      "(array([0.01273097]), np.float64(-0.2054250631712344))\n"
     ]
    },
    {
     "name": "stderr",
     "output_type": "stream",
     "text": [
      "\n"
     ]
    }
   ],
   "source": [
    "eta = 0.9\n",
    "gamma = 0.01 #small to be pretty confient in our bounds (therefore they will be pretty poor guarantees i suppose? hopefully that is what should happen -big t!)\n",
    "k=0\n",
    "\n",
    "epsilon, guarantee =  meta_agent.task_risk_SMC_c2(gamma, eta, k, returns, (-0.6,0.2)) #TODO: intereswtingly too conservative bounds here may make c3 better!\n",
    "print((epsilon, guarantee))\n",
    "\n",
    "\n"
   ]
  },
  {
   "cell_type": "code",
   "execution_count": 13,
   "id": "bb49221f",
   "metadata": {},
   "outputs": [
    {
     "name": "stderr",
     "output_type": "stream",
     "text": [
      "100%|██████████| 101/101 [01:15<00:00,  1.35it/s]"
     ]
    },
    {
     "name": "stdout",
     "output_type": "stream",
     "text": [
      "(array([0.01273097]), np.float64(-1.5694547186314007))\n"
     ]
    },
    {
     "name": "stderr",
     "output_type": "stream",
     "text": [
      "\n"
     ]
    }
   ],
   "source": [
    "eta = 0.9\n",
    "gamma = 0.01 #small to be pretty confient in our bounds (therefore they will be pretty poor guarantees i suppose? hopefully that is what should happen -big t!)\n",
    "k=0\n",
    "\n",
    "epsilon, guarantee =  meta_agent.task_risk_SMC_c2(gamma, eta, k, returns, (a,b)) #TODO: intereswtingly too conservative bounds here may make c3 better!\n",
    "print((epsilon, guarantee))"
   ]
  },
  {
   "cell_type": "code",
   "execution_count": 14,
   "id": "81d9c7d9",
   "metadata": {},
   "outputs": [
    {
     "name": "stderr",
     "output_type": "stream",
     "text": [
      "  0%|          | 0/101 [00:00<?, ?it/s]C:\\Users\\fabia\\Documents\\GitHub\\MetaStableBaselines3\\proj_code\\stable-baselines3-master\\stable-baselines3-master\\stable_baselines3\\common\\on_policy_algorithm.py:552: RuntimeWarning: The iteration is not making good progress, as measured by the \n",
      " improvement from the last ten iterations.\n",
      "  epsilon = fsolve(self._theorem2_epsiloneq, starting_point, args=(k,K,n,gamma,eta))\n",
      " 96%|█████████▌| 97/101 [01:20<00:03,  1.20it/s]"
     ]
    },
    {
     "name": "stdout",
     "output_type": "stream",
     "text": [
      "(array([0.1171632]), np.float64(-0.2054250631712344))\n"
     ]
    },
    {
     "name": "stderr",
     "output_type": "stream",
     "text": [
      "\n"
     ]
    }
   ],
   "source": [
    "eta = 0.01\n",
    "gamma = 0.01 #small to be pretty confient in our bounds (therefore they will be pretty poor guarantees i suppose? hopefully that is what should happen -big t!)\n",
    "k=0\n",
    "\n",
    "epsilon, guarantee =  meta_agent.task_risk_SMC_c2(gamma, eta, k, returns, (-0.6,0.2)) #TODO: intereswtingly too conservative bounds here may make c3 better!\n",
    "print((epsilon, guarantee))"
   ]
  },
  {
   "cell_type": "code",
   "execution_count": 15,
   "id": "80ae957e",
   "metadata": {},
   "outputs": [
    {
     "name": "stderr",
     "output_type": "stream",
     "text": [
      " 96%|█████████▌| 97/101 [01:06<00:02,  1.46it/s]"
     ]
    },
    {
     "name": "stdout",
     "output_type": "stream",
     "text": [
      "(array([0.1171632]), np.float64(-1.5694547186314007))\n"
     ]
    },
    {
     "name": "stderr",
     "output_type": "stream",
     "text": [
      "\n"
     ]
    }
   ],
   "source": [
    "eta = 0.01\n",
    "gamma = 0.01 #small to be pretty confient in our bounds (therefore they will be pretty poor guarantees i suppose? hopefully that is what should happen -big t!)\n",
    "k=0\n",
    "\n",
    "epsilon, guarantee =  meta_agent.task_risk_SMC_c2(gamma, eta, k, returns, (a,b)) #TODO: intereswtingly too conservative bounds here may make c3 better!\n",
    "print((epsilon, guarantee))"
   ]
  },
  {
   "cell_type": "markdown",
   "id": "02a29749",
   "metadata": {},
   "source": [
    "Theorem 2 c3"
   ]
  },
  {
   "cell_type": "code",
   "execution_count": 16,
   "id": "34ca5afe",
   "metadata": {},
   "outputs": [
    {
     "name": "stdout",
     "output_type": "stream",
     "text": [
      "gamma_2=0.022512147630450167\n"
     ]
    },
    {
     "name": "stderr",
     "output_type": "stream",
     "text": [
      "100%|██████████| 101/101 [01:05<00:00,  1.55it/s]"
     ]
    },
    {
     "name": "stdout",
     "output_type": "stream",
     "text": [
      "(array([0.02632269]), tensor(-0.1911))\n"
     ]
    },
    {
     "name": "stderr",
     "output_type": "stream",
     "text": [
      "\n"
     ]
    }
   ],
   "source": [
    "eta = 0.9\n",
    "gamma = 0.01 #small to be pretty confient in our bounds (therefore they will be pretty poor guarantees i suppose? hopefully that is what should happen -big t!)\n",
    "k=0\n",
    "\n",
    "\n",
    "\n",
    "epsilon, guarantee =  meta_agent.task_risk_SMC_c3(gamma, eta, k, [i[0] for i in return_list_sorted], returns)\n",
    "print((epsilon, guarantee))"
   ]
  },
  {
   "cell_type": "code",
   "execution_count": 17,
   "id": "d0da90ff",
   "metadata": {},
   "outputs": [
    {
     "name": "stdout",
     "output_type": "stream",
     "text": [
      "gamma_2=0.022512147630450167\n"
     ]
    },
    {
     "name": "stderr",
     "output_type": "stream",
     "text": [
      " 94%|█████████▍| 95/101 [00:50<00:03,  1.88it/s]"
     ]
    },
    {
     "name": "stdout",
     "output_type": "stream",
     "text": [
      "(array([0.15606601]), tensor(-0.1911))\n"
     ]
    },
    {
     "name": "stderr",
     "output_type": "stream",
     "text": [
      "\n"
     ]
    }
   ],
   "source": [
    "eta = 0.01\n",
    "gamma = 0.01 #small to be pretty confient in our bounds (therefore they will be pretty poor guarantees i suppose? hopefully that is what should happen -big t!)\n",
    "k=0\n",
    "\n",
    "\n",
    "\n",
    "epsilon, guarantee =  meta_agent.task_risk_SMC_c3(gamma, eta, k, [i[0] for i in return_list_sorted], returns)\n",
    "print((epsilon, guarantee))"
   ]
  }
 ],
 "metadata": {
  "kernelspec": {
   "display_name": "projdist",
   "language": "python",
   "name": "python3"
  },
  "language_info": {
   "codemirror_mode": {
    "name": "ipython",
    "version": 3
   },
   "file_extension": ".py",
   "mimetype": "text/x-python",
   "name": "python",
   "nbconvert_exporter": "python",
   "pygments_lexer": "ipython3",
   "version": "3.13.3"
  }
 },
 "nbformat": 4,
 "nbformat_minor": 5
}
